{
 "cells": [
  {
   "cell_type": "code",
   "execution_count": 1,
   "id": "48a541d8-27a9-406f-91bb-b97e97a3b23b",
   "metadata": {},
   "outputs": [],
   "source": [
    "import warnings\n",
    "\n",
    "warnings.filterwarnings(\"ignore\")"
   ]
  },
  {
   "cell_type": "code",
   "execution_count": 2,
   "id": "042f472e-42e1-428c-9663-c38df0d40293",
   "metadata": {},
   "outputs": [],
   "source": [
    "# !pip install cardtale"
   ]
  },
  {
   "cell_type": "code",
   "execution_count": 3,
   "id": "ccb65c65-ed42-4a8d-8985-10c7e6aeb760",
   "metadata": {},
   "outputs": [],
   "source": [
    "from datasetsforecast.m3 import M3\n",
    "from cardtale.cards.builder import CardsBuilder"
   ]
  },
  {
   "cell_type": "code",
   "execution_count": 4,
   "id": "4d39ee9c-504d-413d-96ee-4b2e188bf478",
   "metadata": {},
   "outputs": [],
   "source": [
    "# Loading the dataset\n",
    "df, *_ = M3.load('../assets', group='Monthly')"
   ]
  },
  {
   "cell_type": "code",
   "execution_count": 22,
   "id": "8f3ecdbd-72d1-468d-9619-3f4f3f7b1790",
   "metadata": {},
   "outputs": [
    {
     "data": {
      "text/html": [
       "<div>\n",
       "<style scoped>\n",
       "    .dataframe tbody tr th:only-of-type {\n",
       "        vertical-align: middle;\n",
       "    }\n",
       "\n",
       "    .dataframe tbody tr th {\n",
       "        vertical-align: top;\n",
       "    }\n",
       "\n",
       "    .dataframe thead th {\n",
       "        text-align: right;\n",
       "    }\n",
       "</style>\n",
       "<table border=\"1\" class=\"dataframe\">\n",
       "  <thead>\n",
       "    <tr style=\"text-align: right;\">\n",
       "      <th></th>\n",
       "      <th>unique_id</th>\n",
       "      <th>ds</th>\n",
       "      <th>y</th>\n",
       "    </tr>\n",
       "  </thead>\n",
       "  <tbody>\n",
       "    <tr>\n",
       "      <th>0</th>\n",
       "      <td>M1000</td>\n",
       "      <td>1983-01-31</td>\n",
       "      <td>3705.4</td>\n",
       "    </tr>\n",
       "    <tr>\n",
       "      <th>1</th>\n",
       "      <td>M1000</td>\n",
       "      <td>1983-02-28</td>\n",
       "      <td>3726.0</td>\n",
       "    </tr>\n",
       "    <tr>\n",
       "      <th>2</th>\n",
       "      <td>M1000</td>\n",
       "      <td>1983-03-31</td>\n",
       "      <td>3692.0</td>\n",
       "    </tr>\n",
       "    <tr>\n",
       "      <th>3</th>\n",
       "      <td>M1000</td>\n",
       "      <td>1983-04-30</td>\n",
       "      <td>3721.6</td>\n",
       "    </tr>\n",
       "    <tr>\n",
       "      <th>4</th>\n",
       "      <td>M1000</td>\n",
       "      <td>1983-05-31</td>\n",
       "      <td>3681.0</td>\n",
       "    </tr>\n",
       "  </tbody>\n",
       "</table>\n",
       "</div>"
      ],
      "text/plain": [
       "  unique_id         ds       y\n",
       "0     M1000 1983-01-31  3705.4\n",
       "1     M1000 1983-02-28  3726.0\n",
       "2     M1000 1983-03-31  3692.0\n",
       "3     M1000 1983-04-30  3721.6\n",
       "4     M1000 1983-05-31  3681.0"
      ]
     },
     "execution_count": 22,
     "metadata": {},
     "output_type": "execute_result"
    }
   ],
   "source": [
    "freq = 'ME'\n",
    "uid = 'M1000'\n",
    "\n",
    "series_df = df.query(f'unique_id==\"{uid}\"').reset_index(drop=True)\n",
    "\n",
    "# unique_id: id of the time series\n",
    "# ds: timestamp\n",
    "# y: value\n",
    "series_df.head()"
   ]
  },
  {
   "cell_type": "code",
   "execution_count": 23,
   "id": "dd68ae20-36a9-4efa-8575-2065fcea8c18",
   "metadata": {},
   "outputs": [],
   "source": [
    "tcard = CardsBuilder(series_df, freq)\n",
    "tcard.build_cards()\n",
    "tcard.get_pdf(path=f'output/M3_{uid}.pdf')"
   ]
  }
 ],
 "metadata": {
  "kernelspec": {
   "display_name": "Python 3 (ipykernel)",
   "language": "python",
   "name": "python3"
  },
  "language_info": {
   "codemirror_mode": {
    "name": "ipython",
    "version": 3
   },
   "file_extension": ".py",
   "mimetype": "text/x-python",
   "name": "python",
   "nbconvert_exporter": "python",
   "pygments_lexer": "ipython3",
   "version": "3.10.15"
  }
 },
 "nbformat": 4,
 "nbformat_minor": 5
}
