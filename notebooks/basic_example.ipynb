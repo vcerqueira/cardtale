{
 "cells": [
  {
   "cell_type": "code",
   "execution_count": 3,
   "id": "042f472e-42e1-428c-9663-c38df0d40293",
   "metadata": {},
   "outputs": [],
   "source": [
    "# !pip install cardtale"
   ]
  },
  {
   "cell_type": "code",
   "execution_count": 12,
   "id": "d6f114a9-7d91-4942-a341-c9c26e630ee1",
   "metadata": {},
   "outputs": [
    {
     "name": "stdout",
     "output_type": "stream",
     "text": [
      "Processing /Users/vcerq/Dropbox/Research/cardtale\n",
      "  Installing build dependencies ... \u001b[?2done\n",
      "\u001b[?25h  Getting requirements to build wheel ... \u001b[?25ldone\n",
      "\u001b[?25h  Preparing metadata (pyproject.toml) ... \u001b[?25ldone\n",
      "\u001b[?25hRequirement already satisfied: arch==7.1.0 in /Users/vcerq/miniconda/envs/cardtale/lib/python3.10/site-packages (from cardtale==0.1.0) (7.1.0)\n",
      "Requirement already satisfied: datasetsforecast==0.0.8 in /Users/vcerq/miniconda/envs/cardtale/lib/python3.10/site-packages (from cardtale==0.1.0) (0.0.8)\n",
      "Requirement already satisfied: jinja2==3.1.4 in /Users/vcerq/miniconda/envs/cardtale/lib/python3.10/site-packages (from cardtale==0.1.0) (3.1.4)\n",
      "Requirement already satisfied: lightgbm==4.5.0 in /Users/vcerq/miniconda/envs/cardtale/lib/python3.10/site-packages (from cardtale==0.1.0) (4.5.0)\n",
      "Requirement already satisfied: mlforecast==0.13.4 in /Users/vcerq/miniconda/envs/cardtale/lib/python3.10/site-packages (from cardtale==0.1.0) (0.13.4)\n",
      "Requirement already satisfied: neuralforecast==1.7.5 in /Users/vcerq/miniconda/envs/cardtale/lib/python3.10/site-packages (from cardtale==0.1.0) (1.7.5)\n",
      "Requirement already satisfied: numerize==0.12 in /Users/vcerq/miniconda/envs/cardtale/lib/python3.10/site-packages (from cardtale==0.1.0) (0.12)\n",
      "Requirement already satisfied: pandas==2.2.3 in /Users/vcerq/miniconda/envs/cardtale/lib/python3.10/site-packages (from cardtale==0.1.0) (2.2.3)\n",
      "Requirement already satisfied: plotnine==0.13.6 in /Users/vcerq/miniconda/envs/cardtale/lib/python3.10/site-packages (from cardtale==0.1.0) (0.13.6)\n",
      "Requirement already satisfied: ruptures==1.1.9 in /Users/vcerq/miniconda/envs/cardtale/lib/python3.10/site-packages (from cardtale==0.1.0) (1.1.9)\n",
      "Requirement already satisfied: statsforecast==1.7.8 in /Users/vcerq/miniconda/envs/cardtale/lib/python3.10/site-packages (from cardtale==0.1.0) (1.7.8)\n",
      "Requirement already satisfied: statsmodels==0.14.4 in /Users/vcerq/miniconda/envs/cardtale/lib/python3.10/site-packages (from cardtale==0.1.0) (0.14.4)\n",
      "Requirement already satisfied: weasyprint==62.3 in /Users/vcerq/miniconda/envs/cardtale/lib/python3.10/site-packages (from cardtale==0.1.0) (62.3)\n",
      "Requirement already satisfied: numpy>=1.22.3 in /Users/vcerq/miniconda/envs/cardtale/lib/python3.10/site-packages (from arch==7.1.0->cardtale==0.1.0) (1.26.4)\n",
      "Requirement already satisfied: scipy>=1.8 in /Users/vcerq/miniconda/envs/cardtale/lib/python3.10/site-packages (from arch==7.1.0->cardtale==0.1.0) (1.14.1)\n",
      "Requirement already satisfied: aiohttp in /Users/vcerq/miniconda/envs/cardtale/lib/python3.10/site-packages (from datasetsforecast==0.0.8->cardtale==0.1.0) (3.10.10)\n",
      "Requirement already satisfied: fugue>=0.8.1 in /Users/vcerq/miniconda/envs/cardtale/lib/python3.10/site-packages (from datasetsforecast==0.0.8->cardtale==0.1.0) (0.9.1)\n",
      "Requirement already satisfied: numba in /Users/vcerq/miniconda/envs/cardtale/lib/python3.10/site-packages (from datasetsforecast==0.0.8->cardtale==0.1.0) (0.60.0)\n",
      "Requirement already satisfied: requests in /Users/vcerq/miniconda/envs/cardtale/lib/python3.10/site-packages (from datasetsforecast==0.0.8->cardtale==0.1.0) (2.32.3)\n",
      "Requirement already satisfied: tqdm in /Users/vcerq/miniconda/envs/cardtale/lib/python3.10/site-packages (from datasetsforecast==0.0.8->cardtale==0.1.0) (4.66.6)\n",
      "Requirement already satisfied: xlrd>=1.0.0 in /Users/vcerq/miniconda/envs/cardtale/lib/python3.10/site-packages (from datasetsforecast==0.0.8->cardtale==0.1.0) (2.0.1)\n",
      "Requirement already satisfied: MarkupSafe>=2.0 in /Users/vcerq/miniconda/envs/cardtale/lib/python3.10/site-packages (from jinja2==3.1.4->cardtale==0.1.0) (3.0.2)\n",
      "Requirement already satisfied: cloudpickle in /Users/vcerq/miniconda/envs/cardtale/lib/python3.10/site-packages (from mlforecast==0.13.4->cardtale==0.1.0) (3.1.0)\n",
      "Requirement already satisfied: coreforecast>=0.0.11 in /Users/vcerq/miniconda/envs/cardtale/lib/python3.10/site-packages (from mlforecast==0.13.4->cardtale==0.1.0) (0.0.13.1)\n",
      "Requirement already satisfied: fsspec in /Users/vcerq/miniconda/envs/cardtale/lib/python3.10/site-packages (from mlforecast==0.13.4->cardtale==0.1.0) (2024.10.0)\n",
      "Requirement already satisfied: optuna in /Users/vcerq/miniconda/envs/cardtale/lib/python3.10/site-packages (from mlforecast==0.13.4->cardtale==0.1.0) (4.0.0)\n",
      "Requirement already satisfied: packaging in /Users/vcerq/miniconda/envs/cardtale/lib/python3.10/site-packages (from mlforecast==0.13.4->cardtale==0.1.0) (24.1)\n",
      "Requirement already satisfied: scikit-learn in /Users/vcerq/miniconda/envs/cardtale/lib/python3.10/site-packages (from mlforecast==0.13.4->cardtale==0.1.0) (1.5.2)\n",
      "Requirement already satisfied: utilsforecast>=0.1.9 in /Users/vcerq/miniconda/envs/cardtale/lib/python3.10/site-packages (from mlforecast==0.13.4->cardtale==0.1.0) (0.2.7)\n",
      "Requirement already satisfied: window-ops in /Users/vcerq/miniconda/envs/cardtale/lib/python3.10/site-packages (from mlforecast==0.13.4->cardtale==0.1.0) (0.0.15)\n",
      "Requirement already satisfied: torch>=2.0.0 in /Users/vcerq/miniconda/envs/cardtale/lib/python3.10/site-packages (from neuralforecast==1.7.5->cardtale==0.1.0) (2.5.1)\n",
      "Requirement already satisfied: pytorch-lightning>=2.0.0 in /Users/vcerq/miniconda/envs/cardtale/lib/python3.10/site-packages (from neuralforecast==1.7.5->cardtale==0.1.0) (2.4.0)\n",
      "Requirement already satisfied: ray>=2.2.0 in /Users/vcerq/miniconda/envs/cardtale/lib/python3.10/site-packages (from ray[tune]>=2.2.0->neuralforecast==1.7.5->cardtale==0.1.0) (2.38.0)\n",
      "Requirement already satisfied: python-dateutil>=2.8.2 in /Users/vcerq/miniconda/envs/cardtale/lib/python3.10/site-packages (from pandas==2.2.3->cardtale==0.1.0) (2.9.0.post0)\n",
      "Requirement already satisfied: pytz>=2020.1 in /Users/vcerq/miniconda/envs/cardtale/lib/python3.10/site-packages (from pandas==2.2.3->cardtale==0.1.0) (2024.2)\n",
      "Requirement already satisfied: tzdata>=2022.7 in /Users/vcerq/miniconda/envs/cardtale/lib/python3.10/site-packages (from pandas==2.2.3->cardtale==0.1.0) (2024.2)\n",
      "Requirement already satisfied: matplotlib>=3.7.0 in /Users/vcerq/miniconda/envs/cardtale/lib/python3.10/site-packages (from plotnine==0.13.6->cardtale==0.1.0) (3.9.2)\n",
      "Requirement already satisfied: mizani~=0.11.0 in /Users/vcerq/miniconda/envs/cardtale/lib/python3.10/site-packages (from plotnine==0.13.6->cardtale==0.1.0) (0.11.4)\n",
      "Requirement already satisfied: threadpoolctl>=3 in /Users/vcerq/miniconda/envs/cardtale/lib/python3.10/site-packages (from statsforecast==1.7.8->cardtale==0.1.0) (3.5.0)\n",
      "Requirement already satisfied: patsy>=0.5.6 in /Users/vcerq/miniconda/envs/cardtale/lib/python3.10/site-packages (from statsmodels==0.14.4->cardtale==0.1.0) (0.5.6)\n",
      "Requirement already satisfied: pydyf>=0.10.0 in /Users/vcerq/miniconda/envs/cardtale/lib/python3.10/site-packages (from weasyprint==62.3->cardtale==0.1.0) (0.11.0)\n",
      "Requirement already satisfied: cffi>=0.6 in /Users/vcerq/miniconda/envs/cardtale/lib/python3.10/site-packages (from weasyprint==62.3->cardtale==0.1.0) (1.17.1)\n",
      "Requirement already satisfied: html5lib>=1.1 in /Users/vcerq/miniconda/envs/cardtale/lib/python3.10/site-packages (from weasyprint==62.3->cardtale==0.1.0) (1.1)\n",
      "Requirement already satisfied: tinycss2>=1.3.0 in /Users/vcerq/miniconda/envs/cardtale/lib/python3.10/site-packages (from weasyprint==62.3->cardtale==0.1.0) (1.4.0)\n",
      "Requirement already satisfied: cssselect2>=0.1 in /Users/vcerq/miniconda/envs/cardtale/lib/python3.10/site-packages (from weasyprint==62.3->cardtale==0.1.0) (0.7.0)\n",
      "Requirement already satisfied: Pyphen>=0.9.1 in /Users/vcerq/miniconda/envs/cardtale/lib/python3.10/site-packages (from weasyprint==62.3->cardtale==0.1.0) (0.17.0)\n",
      "Requirement already satisfied: Pillow>=9.1.0 in /Users/vcerq/miniconda/envs/cardtale/lib/python3.10/site-packages (from weasyprint==62.3->cardtale==0.1.0) (11.0.0)\n",
      "Requirement already satisfied: fonttools>=4.0.0 in /Users/vcerq/miniconda/envs/cardtale/lib/python3.10/site-packages (from fonttools[woff]>=4.0.0->weasyprint==62.3->cardtale==0.1.0) (4.54.1)\n",
      "Requirement already satisfied: pycparser in /Users/vcerq/miniconda/envs/cardtale/lib/python3.10/site-packages (from cffi>=0.6->weasyprint==62.3->cardtale==0.1.0) (2.22)\n",
      "Requirement already satisfied: webencodings in /Users/vcerq/miniconda/envs/cardtale/lib/python3.10/site-packages (from cssselect2>=0.1->weasyprint==62.3->cardtale==0.1.0) (0.5.1)\n",
      "Requirement already satisfied: zopfli>=0.1.4 in /Users/vcerq/miniconda/envs/cardtale/lib/python3.10/site-packages (from fonttools[woff]>=4.0.0->weasyprint==62.3->cardtale==0.1.0) (0.2.3.post1)\n",
      "Requirement already satisfied: brotli>=1.0.1 in /Users/vcerq/miniconda/envs/cardtale/lib/python3.10/site-packages (from fonttools[woff]>=4.0.0->weasyprint==62.3->cardtale==0.1.0) (1.1.0)\n",
      "Requirement already satisfied: triad>=0.9.7 in /Users/vcerq/miniconda/envs/cardtale/lib/python3.10/site-packages (from fugue>=0.8.1->datasetsforecast==0.0.8->cardtale==0.1.0) (0.9.8)\n",
      "Requirement already satisfied: adagio>=0.2.4 in /Users/vcerq/miniconda/envs/cardtale/lib/python3.10/site-packages (from fugue>=0.8.1->datasetsforecast==0.0.8->cardtale==0.1.0) (0.2.6)\n",
      "Requirement already satisfied: six>=1.9 in /Users/vcerq/miniconda/envs/cardtale/lib/python3.10/site-packages (from html5lib>=1.1->weasyprint==62.3->cardtale==0.1.0) (1.16.0)\n",
      "Requirement already satisfied: contourpy>=1.0.1 in /Users/vcerq/miniconda/envs/cardtale/lib/python3.10/site-packages (from matplotlib>=3.7.0->plotnine==0.13.6->cardtale==0.1.0) (1.3.0)\n",
      "Requirement already satisfied: cycler>=0.10 in /Users/vcerq/miniconda/envs/cardtale/lib/python3.10/site-packages (from matplotlib>=3.7.0->plotnine==0.13.6->cardtale==0.1.0) (0.12.1)\n",
      "Requirement already satisfied: kiwisolver>=1.3.1 in /Users/vcerq/miniconda/envs/cardtale/lib/python3.10/site-packages (from matplotlib>=3.7.0->plotnine==0.13.6->cardtale==0.1.0) (1.4.7)\n",
      "Requirement already satisfied: pyparsing>=2.3.1 in /Users/vcerq/miniconda/envs/cardtale/lib/python3.10/site-packages (from matplotlib>=3.7.0->plotnine==0.13.6->cardtale==0.1.0) (3.2.0)\n",
      "Requirement already satisfied: llvmlite<0.44,>=0.43.0dev0 in /Users/vcerq/miniconda/envs/cardtale/lib/python3.10/site-packages (from numba->datasetsforecast==0.0.8->cardtale==0.1.0) (0.43.0)\n",
      "Requirement already satisfied: PyYAML>=5.4 in /Users/vcerq/miniconda/envs/cardtale/lib/python3.10/site-packages (from pytorch-lightning>=2.0.0->neuralforecast==1.7.5->cardtale==0.1.0) (6.0.2)\n",
      "Requirement already satisfied: torchmetrics>=0.7.0 in /Users/vcerq/miniconda/envs/cardtale/lib/python3.10/site-packages (from pytorch-lightning>=2.0.0->neuralforecast==1.7.5->cardtale==0.1.0) (1.5.1)\n",
      "Requirement already satisfied: typing-extensions>=4.4.0 in /Users/vcerq/miniconda/envs/cardtale/lib/python3.10/site-packages (from pytorch-lightning>=2.0.0->neuralforecast==1.7.5->cardtale==0.1.0) (4.12.2)\n",
      "Requirement already satisfied: lightning-utilities>=0.10.0 in /Users/vcerq/miniconda/envs/cardtale/lib/python3.10/site-packages (from pytorch-lightning>=2.0.0->neuralforecast==1.7.5->cardtale==0.1.0) (0.11.8)\n",
      "Requirement already satisfied: click>=7.0 in /Users/vcerq/miniconda/envs/cardtale/lib/python3.10/site-packages (from ray>=2.2.0->ray[tune]>=2.2.0->neuralforecast==1.7.5->cardtale==0.1.0) (8.1.7)\n",
      "Requirement already satisfied: filelock in /Users/vcerq/miniconda/envs/cardtale/lib/python3.10/site-packages (from ray>=2.2.0->ray[tune]>=2.2.0->neuralforecast==1.7.5->cardtale==0.1.0) (3.16.1)\n",
      "Requirement already satisfied: jsonschema in /Users/vcerq/miniconda/envs/cardtale/lib/python3.10/site-packages (from ray>=2.2.0->ray[tune]>=2.2.0->neuralforecast==1.7.5->cardtale==0.1.0) (4.23.0)\n",
      "Requirement already satisfied: msgpack<2.0.0,>=1.0.0 in /Users/vcerq/miniconda/envs/cardtale/lib/python3.10/site-packages (from ray>=2.2.0->ray[tune]>=2.2.0->neuralforecast==1.7.5->cardtale==0.1.0) (1.1.0)\n",
      "Requirement already satisfied: protobuf!=3.19.5,>=3.15.3 in /Users/vcerq/miniconda/envs/cardtale/lib/python3.10/site-packages (from ray>=2.2.0->ray[tune]>=2.2.0->neuralforecast==1.7.5->cardtale==0.1.0) (5.28.3)\n",
      "Requirement already satisfied: aiosignal in /Users/vcerq/miniconda/envs/cardtale/lib/python3.10/site-packages (from ray>=2.2.0->ray[tune]>=2.2.0->neuralforecast==1.7.5->cardtale==0.1.0) (1.3.1)\n",
      "Requirement already satisfied: frozenlist in /Users/vcerq/miniconda/envs/cardtale/lib/python3.10/site-packages (from ray>=2.2.0->ray[tune]>=2.2.0->neuralforecast==1.7.5->cardtale==0.1.0) (1.5.0)\n",
      "Requirement already satisfied: tensorboardX>=1.9 in /Users/vcerq/miniconda/envs/cardtale/lib/python3.10/site-packages (from ray[tune]>=2.2.0->neuralforecast==1.7.5->cardtale==0.1.0) (2.6.2.2)\n",
      "Requirement already satisfied: pyarrow>=6.0.1 in /Users/vcerq/miniconda/envs/cardtale/lib/python3.10/site-packages (from ray[tune]>=2.2.0->neuralforecast==1.7.5->cardtale==0.1.0) (18.0.0)\n",
      "Requirement already satisfied: networkx in /Users/vcerq/miniconda/envs/cardtale/lib/python3.10/site-packages (from torch>=2.0.0->neuralforecast==1.7.5->cardtale==0.1.0) (3.4.2)\n",
      "Requirement already satisfied: sympy==1.13.1 in /Users/vcerq/miniconda/envs/cardtale/lib/python3.10/site-packages (from torch>=2.0.0->neuralforecast==1.7.5->cardtale==0.1.0) (1.13.1)\n",
      "Requirement already satisfied: mpmath<1.4,>=1.1.0 in /Users/vcerq/miniconda/envs/cardtale/lib/python3.10/site-packages (from sympy==1.13.1->torch>=2.0.0->neuralforecast==1.7.5->cardtale==0.1.0) (1.3.0)\n",
      "Requirement already satisfied: aiohappyeyeballs>=2.3.0 in /Users/vcerq/miniconda/envs/cardtale/lib/python3.10/site-packages (from aiohttp->datasetsforecast==0.0.8->cardtale==0.1.0) (2.4.3)\n",
      "Requirement already satisfied: attrs>=17.3.0 in /Users/vcerq/miniconda/envs/cardtale/lib/python3.10/site-packages (from aiohttp->datasetsforecast==0.0.8->cardtale==0.1.0) (24.2.0)\n",
      "Requirement already satisfied: multidict<7.0,>=4.5 in /Users/vcerq/miniconda/envs/cardtale/lib/python3.10/site-packages (from aiohttp->datasetsforecast==0.0.8->cardtale==0.1.0) (6.1.0)\n",
      "Requirement already satisfied: yarl<2.0,>=1.12.0 in /Users/vcerq/miniconda/envs/cardtale/lib/python3.10/site-packages (from aiohttp->datasetsforecast==0.0.8->cardtale==0.1.0) (1.17.1)\n",
      "Requirement already satisfied: async-timeout<5.0,>=4.0 in /Users/vcerq/miniconda/envs/cardtale/lib/python3.10/site-packages (from aiohttp->datasetsforecast==0.0.8->cardtale==0.1.0) (4.0.3)\n",
      "Requirement already satisfied: alembic>=1.5.0 in /Users/vcerq/miniconda/envs/cardtale/lib/python3.10/site-packages (from optuna->mlforecast==0.13.4->cardtale==0.1.0) (1.13.3)\n",
      "Requirement already satisfied: colorlog in /Users/vcerq/miniconda/envs/cardtale/lib/python3.10/site-packages (from optuna->mlforecast==0.13.4->cardtale==0.1.0) (6.9.0)\n",
      "Requirement already satisfied: sqlalchemy>=1.3.0 in /Users/vcerq/miniconda/envs/cardtale/lib/python3.10/site-packages (from optuna->mlforecast==0.13.4->cardtale==0.1.0) (2.0.36)\n",
      "Requirement already satisfied: charset-normalizer<4,>=2 in /Users/vcerq/miniconda/envs/cardtale/lib/python3.10/site-packages (from requests->datasetsforecast==0.0.8->cardtale==0.1.0) (3.4.0)\n",
      "Requirement already satisfied: idna<4,>=2.5 in /Users/vcerq/miniconda/envs/cardtale/lib/python3.10/site-packages (from requests->datasetsforecast==0.0.8->cardtale==0.1.0) (3.10)\n",
      "Requirement already satisfied: urllib3<3,>=1.21.1 in /Users/vcerq/miniconda/envs/cardtale/lib/python3.10/site-packages (from requests->datasetsforecast==0.0.8->cardtale==0.1.0) (2.2.3)\n",
      "Requirement already satisfied: certifi>=2017.4.17 in /Users/vcerq/miniconda/envs/cardtale/lib/python3.10/site-packages (from requests->datasetsforecast==0.0.8->cardtale==0.1.0) (2024.8.30)\n",
      "Requirement already satisfied: joblib>=1.2.0 in /Users/vcerq/miniconda/envs/cardtale/lib/python3.10/site-packages (from scikit-learn->mlforecast==0.13.4->cardtale==0.1.0) (1.4.2)\n",
      "Requirement already satisfied: Mako in /Users/vcerq/miniconda/envs/cardtale/lib/python3.10/site-packages (from alembic>=1.5.0->optuna->mlforecast==0.13.4->cardtale==0.1.0) (1.3.6)\n",
      "Requirement already satisfied: setuptools in /Users/vcerq/miniconda/envs/cardtale/lib/python3.10/site-packages (from lightning-utilities>=0.10.0->pytorch-lightning>=2.0.0->neuralforecast==1.7.5->cardtale==0.1.0) (75.1.0)\n",
      "Requirement already satisfied: fs in /Users/vcerq/miniconda/envs/cardtale/lib/python3.10/site-packages (from triad>=0.9.7->fugue>=0.8.1->datasetsforecast==0.0.8->cardtale==0.1.0) (2.4.16)\n",
      "Requirement already satisfied: propcache>=0.2.0 in /Users/vcerq/miniconda/envs/cardtale/lib/python3.10/site-packages (from yarl<2.0,>=1.12.0->aiohttp->datasetsforecast==0.0.8->cardtale==0.1.0) (0.2.0)\n",
      "Requirement already satisfied: jsonschema-specifications>=2023.03.6 in /Users/vcerq/miniconda/envs/cardtale/lib/python3.10/site-packages (from jsonschema->ray>=2.2.0->ray[tune]>=2.2.0->neuralforecast==1.7.5->cardtale==0.1.0) (2024.10.1)\n",
      "Requirement already satisfied: referencing>=0.28.4 in /Users/vcerq/miniconda/envs/cardtale/lib/python3.10/site-packages (from jsonschema->ray>=2.2.0->ray[tune]>=2.2.0->neuralforecast==1.7.5->cardtale==0.1.0) (0.35.1)\n",
      "Requirement already satisfied: rpds-py>=0.7.1 in /Users/vcerq/miniconda/envs/cardtale/lib/python3.10/site-packages (from jsonschema->ray>=2.2.0->ray[tune]>=2.2.0->neuralforecast==1.7.5->cardtale==0.1.0) (0.20.1)\n",
      "Requirement already satisfied: appdirs~=1.4.3 in /Users/vcerq/miniconda/envs/cardtale/lib/python3.10/site-packages (from fs->triad>=0.9.7->fugue>=0.8.1->datasetsforecast==0.0.8->cardtale==0.1.0) (1.4.4)\n",
      "Building wheels for collected packages: cardtale\n",
      "  Building wheel for cardtale (pyproject.toml) ... \u001b[?25ldone\n",
      "\u001b[?25h  Created wheel for cardtale: filename=cardtale-0.1.0-py3-none-any.whl size=88954 sha256=fe9d09cfc00f67e2be4818a8558bf0768b0e24efd1be2db6f75c62c5cb578318\n",
      "  Stored in directory: /private/var/folders/4r/ptn78qsx2vgffms1_tb7v9xw0000gn/T/pip-ephem-wheel-cache-2zjcpi6e/wheels/d8/48/fc/b27633ee1fd6b2c04d42754380191c132d3df136b201c74ed5\n",
      "Successfully built cardtale\n",
      "Installing collected packages: cardtale\n",
      "  Attempting uninstall: cardtale\n",
      "    Found existing installation: cardtale 0.1.0\n",
      "    Uninstalling cardtale-0.1.0:\n",
      "      Successfully uninstalled cardtale-0.1.0\n",
      "Successfully installed cardtale-0.1.0\n"
     ]
    }
   ],
   "source": [
    "!pip install ./.."
   ]
  },
  {
   "cell_type": "code",
   "execution_count": 13,
   "id": "ccb65c65-ed42-4a8d-8985-10c7e6aeb760",
   "metadata": {},
   "outputs": [],
   "source": [
    "from datasetsforecast.m3 import M3\n",
    "from cardtale.cards.builder import CardsBuilder"
   ]
  },
  {
   "cell_type": "code",
   "execution_count": 17,
   "id": "4d39ee9c-504d-413d-96ee-4b2e188bf478",
   "metadata": {},
   "outputs": [
    {
     "name": "stderr",
     "output_type": "stream",
     "text": [
      "/Users/vcerq/miniconda/envs/cardtale/lib/python3.10/site-packages/datasetsforecast/m3.py:108: FutureWarning: 'M' is deprecated and will be removed in a future version, please use 'ME' instead.\n"
     ]
    }
   ],
   "source": [
    "df, *_ = M3.load('../assets', group='Monthly')"
   ]
  },
  {
   "cell_type": "code",
   "execution_count": 15,
   "id": "8f3ecdbd-72d1-468d-9619-3f4f3f7b1790",
   "metadata": {},
   "outputs": [
    {
     "data": {
      "text/html": [
       "<div>\n",
       "<style scoped>\n",
       "    .dataframe tbody tr th:only-of-type {\n",
       "        vertical-align: middle;\n",
       "    }\n",
       "\n",
       "    .dataframe tbody tr th {\n",
       "        vertical-align: top;\n",
       "    }\n",
       "\n",
       "    .dataframe thead th {\n",
       "        text-align: right;\n",
       "    }\n",
       "</style>\n",
       "<table border=\"1\" class=\"dataframe\">\n",
       "  <thead>\n",
       "    <tr style=\"text-align: right;\">\n",
       "      <th></th>\n",
       "      <th>unique_id</th>\n",
       "      <th>ds</th>\n",
       "      <th>y</th>\n",
       "    </tr>\n",
       "  </thead>\n",
       "  <tbody>\n",
       "    <tr>\n",
       "      <th>139</th>\n",
       "      <td>M1080</td>\n",
       "      <td>1975-08-31</td>\n",
       "      <td>5450.0</td>\n",
       "    </tr>\n",
       "    <tr>\n",
       "      <th>140</th>\n",
       "      <td>M1080</td>\n",
       "      <td>1975-09-30</td>\n",
       "      <td>5700.0</td>\n",
       "    </tr>\n",
       "    <tr>\n",
       "      <th>141</th>\n",
       "      <td>M1080</td>\n",
       "      <td>1975-10-31</td>\n",
       "      <td>5900.0</td>\n",
       "    </tr>\n",
       "    <tr>\n",
       "      <th>142</th>\n",
       "      <td>M1080</td>\n",
       "      <td>1975-11-30</td>\n",
       "      <td>6000.0</td>\n",
       "    </tr>\n",
       "    <tr>\n",
       "      <th>143</th>\n",
       "      <td>M1080</td>\n",
       "      <td>1975-12-31</td>\n",
       "      <td>5100.0</td>\n",
       "    </tr>\n",
       "  </tbody>\n",
       "</table>\n",
       "</div>"
      ],
      "text/plain": [
       "    unique_id         ds       y\n",
       "139     M1080 1975-08-31  5450.0\n",
       "140     M1080 1975-09-30  5700.0\n",
       "141     M1080 1975-10-31  5900.0\n",
       "142     M1080 1975-11-30  6000.0\n",
       "143     M1080 1975-12-31  5100.0"
      ]
     },
     "execution_count": 15,
     "metadata": {},
     "output_type": "execute_result"
    }
   ],
   "source": [
    "freq = 'ME'\n",
    "uid = 'M1080'\n",
    "\n",
    "series_df = df.query(f'unique_id==\"{uid}\"').reset_index(drop=True)\n",
    "\n",
    "series_df.tail()"
   ]
  },
  {
   "cell_type": "code",
   "execution_count": 16,
   "id": "dd68ae20-36a9-4efa-8575-2065fcea8c18",
   "metadata": {},
   "outputs": [
    {
     "ename": "ValueError",
     "evalue": "cannot convert float NaN to integer",
     "output_type": "error",
     "traceback": [
      "\u001b[0;31m---------------------------------------------------------------------------\u001b[0m",
      "\u001b[0;31mValueError\u001b[0m                                Traceback (most recent call last)",
      "Cell \u001b[0;32mIn[16], line 1\u001b[0m\n\u001b[0;32m----> 1\u001b[0m tcard \u001b[38;5;241m=\u001b[39m \u001b[43mCardsBuilder\u001b[49m\u001b[43m(\u001b[49m\u001b[43mseries_df\u001b[49m\u001b[43m,\u001b[49m\u001b[43m \u001b[49m\u001b[43mfreq\u001b[49m\u001b[43m)\u001b[49m\n\u001b[1;32m      2\u001b[0m tcard\u001b[38;5;241m.\u001b[39mbuild_cards()\n\u001b[1;32m      3\u001b[0m tcard\u001b[38;5;241m.\u001b[39mget_pdf(path\u001b[38;5;241m=\u001b[39m\u001b[38;5;124m'\u001b[39m\u001b[38;5;124mcards/example.pdf\u001b[39m\u001b[38;5;124m'\u001b[39m)\n",
      "File \u001b[0;32m~/miniconda/envs/cardtale/lib/python3.10/site-packages/cardtale/cards/builder.py:57\u001b[0m, in \u001b[0;36mCardsBuilder.__init__\u001b[0;34m(self, df, freq, id_col, time_col, target_col, period)\u001b[0m\n\u001b[1;32m     38\u001b[0m \u001b[38;5;28;01mdef\u001b[39;00m\u001b[38;5;250m \u001b[39m\u001b[38;5;21m__init__\u001b[39m(\u001b[38;5;28mself\u001b[39m,\n\u001b[1;32m     39\u001b[0m              df: pd\u001b[38;5;241m.\u001b[39mDataFrame,\n\u001b[1;32m     40\u001b[0m              freq: \u001b[38;5;28mstr\u001b[39m,\n\u001b[0;32m   (...)\u001b[0m\n\u001b[1;32m     43\u001b[0m              target_col: \u001b[38;5;28mstr\u001b[39m \u001b[38;5;241m=\u001b[39m \u001b[38;5;124m'\u001b[39m\u001b[38;5;124my\u001b[39m\u001b[38;5;124m'\u001b[39m,\n\u001b[1;32m     44\u001b[0m              period: Period \u001b[38;5;241m=\u001b[39m \u001b[38;5;28;01mNone\u001b[39;00m):\n\u001b[1;32m     45\u001b[0m \u001b[38;5;250m    \u001b[39m\u001b[38;5;124;03m\"\"\"\u001b[39;00m\n\u001b[1;32m     46\u001b[0m \u001b[38;5;124;03m    Initializes the CardsBuilder with the given data and parameters.\u001b[39;00m\n\u001b[1;32m     47\u001b[0m \n\u001b[0;32m   (...)\u001b[0m\n\u001b[1;32m     54\u001b[0m \u001b[38;5;124;03m        period (Period, optional): Period for the time series data. Defaults to None.\u001b[39;00m\n\u001b[1;32m     55\u001b[0m \u001b[38;5;124;03m    \"\"\"\u001b[39;00m\n\u001b[0;32m---> 57\u001b[0m     \u001b[38;5;28mself\u001b[39m\u001b[38;5;241m.\u001b[39mtsd \u001b[38;5;241m=\u001b[39m \u001b[43mTimeSeriesData\u001b[49m\u001b[43m(\u001b[49m\u001b[43mdf\u001b[49m\u001b[38;5;241;43m=\u001b[39;49m\u001b[43mdf\u001b[49m\u001b[38;5;241;43m.\u001b[39;49m\u001b[43mcopy\u001b[49m\u001b[43m(\u001b[49m\u001b[43m)\u001b[49m\u001b[43m,\u001b[49m\n\u001b[1;32m     58\u001b[0m \u001b[43m                              \u001b[49m\u001b[43mfreq\u001b[49m\u001b[38;5;241;43m=\u001b[39;49m\u001b[43mfreq\u001b[49m\u001b[43m,\u001b[49m\n\u001b[1;32m     59\u001b[0m \u001b[43m                              \u001b[49m\u001b[43mid_col\u001b[49m\u001b[38;5;241;43m=\u001b[39;49m\u001b[43mid_col\u001b[49m\u001b[43m,\u001b[49m\n\u001b[1;32m     60\u001b[0m \u001b[43m                              \u001b[49m\u001b[43mtime_col\u001b[49m\u001b[38;5;241;43m=\u001b[39;49m\u001b[43mtime_col\u001b[49m\u001b[43m,\u001b[49m\n\u001b[1;32m     61\u001b[0m \u001b[43m                              \u001b[49m\u001b[43mtarget_col\u001b[49m\u001b[38;5;241;43m=\u001b[39;49m\u001b[43mtarget_col\u001b[49m\u001b[43m,\u001b[49m\n\u001b[1;32m     62\u001b[0m \u001b[43m                              \u001b[49m\u001b[43mperiod\u001b[49m\u001b[38;5;241;43m=\u001b[39;49m\u001b[43mperiod\u001b[49m\u001b[43m)\u001b[49m\n\u001b[1;32m     64\u001b[0m     \u001b[38;5;28mself\u001b[39m\u001b[38;5;241m.\u001b[39mtests \u001b[38;5;241m=\u001b[39m TestingComponents(\u001b[38;5;28mself\u001b[39m\u001b[38;5;241m.\u001b[39mtsd)\n\u001b[1;32m     66\u001b[0m     \u001b[38;5;28mself\u001b[39m\u001b[38;5;241m.\u001b[39mcards \u001b[38;5;241m=\u001b[39m {\n\u001b[1;32m     67\u001b[0m         \u001b[38;5;124m'\u001b[39m\u001b[38;5;124mstructural\u001b[39m\u001b[38;5;124m'\u001b[39m: StructuralCard(tsd\u001b[38;5;241m=\u001b[39m\u001b[38;5;28mself\u001b[39m\u001b[38;5;241m.\u001b[39mtsd, tests\u001b[38;5;241m=\u001b[39m\u001b[38;5;28mself\u001b[39m\u001b[38;5;241m.\u001b[39mtests),\n\u001b[1;32m     68\u001b[0m         \u001b[38;5;124m'\u001b[39m\u001b[38;5;124mtrend\u001b[39m\u001b[38;5;124m'\u001b[39m: TrendCard(tsd\u001b[38;5;241m=\u001b[39m\u001b[38;5;28mself\u001b[39m\u001b[38;5;241m.\u001b[39mtsd, tests\u001b[38;5;241m=\u001b[39m\u001b[38;5;28mself\u001b[39m\u001b[38;5;241m.\u001b[39mtests),\n\u001b[0;32m   (...)\u001b[0m\n\u001b[1;32m     71\u001b[0m         \u001b[38;5;124m'\u001b[39m\u001b[38;5;124mchange\u001b[39m\u001b[38;5;124m'\u001b[39m: ChangePointCard(tsd\u001b[38;5;241m=\u001b[39m\u001b[38;5;28mself\u001b[39m\u001b[38;5;241m.\u001b[39mtsd, tests\u001b[38;5;241m=\u001b[39m\u001b[38;5;28mself\u001b[39m\u001b[38;5;241m.\u001b[39mtests),\n\u001b[1;32m     72\u001b[0m     }\n",
      "File \u001b[0;32m~/miniconda/envs/cardtale/lib/python3.10/site-packages/cardtale/core/data.py:98\u001b[0m, in \u001b[0;36mTimeSeriesData.__init__\u001b[0;34m(self, df, freq, id_col, time_col, target_col, period)\u001b[0m\n\u001b[1;32m     95\u001b[0m \u001b[38;5;28mself\u001b[39m\u001b[38;5;241m.\u001b[39msummary \u001b[38;5;241m=\u001b[39m SeriesProfile(n_lags\u001b[38;5;241m=\u001b[39m\u001b[38;5;28mself\u001b[39m\u001b[38;5;241m.\u001b[39mperiod \u001b[38;5;241m*\u001b[39m \u001b[38;5;241m2\u001b[39m)\n\u001b[1;32m     96\u001b[0m \u001b[38;5;28mself\u001b[39m\u001b[38;5;241m.\u001b[39mdiff_summary \u001b[38;5;241m=\u001b[39m SeriesProfile(n_lags\u001b[38;5;241m=\u001b[39m\u001b[38;5;28mself\u001b[39m\u001b[38;5;241m.\u001b[39mperiod \u001b[38;5;241m*\u001b[39m \u001b[38;5;241m2\u001b[39m)\n\u001b[0;32m---> 98\u001b[0m \u001b[38;5;28;43mself\u001b[39;49m\u001b[38;5;241;43m.\u001b[39;49m\u001b[43msetup\u001b[49m\u001b[43m(\u001b[49m\u001b[43m)\u001b[49m\n",
      "File \u001b[0;32m~/miniconda/envs/cardtale/lib/python3.10/site-packages/cardtale/core/data.py:114\u001b[0m, in \u001b[0;36mTimeSeriesData.setup\u001b[0;34m(self)\u001b[0m\n\u001b[1;32m    111\u001b[0m s \u001b[38;5;241m=\u001b[39m \u001b[38;5;28mself\u001b[39m\u001b[38;5;241m.\u001b[39mget_target_series(\u001b[38;5;28mself\u001b[39m\u001b[38;5;241m.\u001b[39mdf, \u001b[38;5;28mself\u001b[39m\u001b[38;5;241m.\u001b[39mtarget_col, \u001b[38;5;28mself\u001b[39m\u001b[38;5;241m.\u001b[39mtime_col)\n\u001b[1;32m    113\u001b[0m \u001b[38;5;28mself\u001b[39m\u001b[38;5;241m.\u001b[39msummary\u001b[38;5;241m.\u001b[39mrun(s, \u001b[38;5;28mself\u001b[39m\u001b[38;5;241m.\u001b[39mperiod, \u001b[38;5;28mself\u001b[39m\u001b[38;5;241m.\u001b[39mdate_format)\n\u001b[0;32m--> 114\u001b[0m \u001b[38;5;28;43mself\u001b[39;49m\u001b[38;5;241;43m.\u001b[39;49m\u001b[43mdiff_summary\u001b[49m\u001b[38;5;241;43m.\u001b[39;49m\u001b[43mrun\u001b[49m\u001b[43m(\u001b[49m\u001b[43ms\u001b[49m\u001b[38;5;241;43m.\u001b[39;49m\u001b[43mdiff\u001b[49m\u001b[43m(\u001b[49m\u001b[43m)\u001b[49m\u001b[43m[\u001b[49m\u001b[38;5;241;43m1\u001b[39;49m\u001b[43m:\u001b[49m\u001b[43m]\u001b[49m\u001b[43m,\u001b[49m\u001b[43m \u001b[49m\u001b[38;5;28;43mself\u001b[39;49m\u001b[38;5;241;43m.\u001b[39;49m\u001b[43mperiod\u001b[49m\u001b[43m,\u001b[49m\u001b[43m \u001b[49m\u001b[38;5;28;43mself\u001b[39;49m\u001b[38;5;241;43m.\u001b[39;49m\u001b[43mdate_format\u001b[49m\u001b[43m)\u001b[49m\n\u001b[1;32m    116\u001b[0m \u001b[38;5;28mself\u001b[39m\u001b[38;5;241m.\u001b[39mseas_df \u001b[38;5;241m=\u001b[39m pd\u001b[38;5;241m.\u001b[39mconcat([\u001b[38;5;28mself\u001b[39m\u001b[38;5;241m.\u001b[39mdf, \u001b[38;5;28mself\u001b[39m\u001b[38;5;241m.\u001b[39mdt\u001b[38;5;241m.\u001b[39mrecurrent], axis\u001b[38;5;241m=\u001b[39m\u001b[38;5;241m1\u001b[39m)\n\u001b[1;32m    117\u001b[0m \u001b[38;5;28mself\u001b[39m\u001b[38;5;241m.\u001b[39mstl_df \u001b[38;5;241m=\u001b[39m DecompositionSTL\u001b[38;5;241m.\u001b[39mget_stl_components(series\u001b[38;5;241m=\u001b[39ms, period\u001b[38;5;241m=\u001b[39m\u001b[38;5;28mself\u001b[39m\u001b[38;5;241m.\u001b[39mperiod)\n",
      "File \u001b[0;32m~/miniconda/envs/cardtale/lib/python3.10/site-packages/cardtale/core/profile.py:85\u001b[0m, in \u001b[0;36mSeriesProfile.run\u001b[0;34m(self, series, period, dt_format)\u001b[0m\n\u001b[1;32m     75\u001b[0m \u001b[38;5;28;01mdef\u001b[39;00m\u001b[38;5;250m \u001b[39m\u001b[38;5;21mrun\u001b[39m(\u001b[38;5;28mself\u001b[39m, series: pd\u001b[38;5;241m.\u001b[39mSeries, period: \u001b[38;5;28mint\u001b[39m, dt_format: \u001b[38;5;28mstr\u001b[39m, ):\n\u001b[1;32m     76\u001b[0m \u001b[38;5;250m    \u001b[39m\u001b[38;5;124;03m\"\"\"\u001b[39;00m\n\u001b[1;32m     77\u001b[0m \u001b[38;5;124;03m    Runs the summary and distribution fitting for the series.\u001b[39;00m\n\u001b[1;32m     78\u001b[0m \n\u001b[0;32m   (...)\u001b[0m\n\u001b[1;32m     82\u001b[0m \u001b[38;5;124;03m        dt_format (str): Date format for display.\u001b[39;00m\n\u001b[1;32m     83\u001b[0m \u001b[38;5;124;03m    \"\"\"\u001b[39;00m\n\u001b[0;32m---> 85\u001b[0m     \u001b[38;5;28;43mself\u001b[39;49m\u001b[38;5;241;43m.\u001b[39;49m\u001b[43msummarise\u001b[49m\u001b[43m(\u001b[49m\u001b[43mseries\u001b[49m\u001b[43m,\u001b[49m\u001b[43m \u001b[49m\u001b[43mperiod\u001b[49m\u001b[43m,\u001b[49m\u001b[43m \u001b[49m\u001b[43mdt_format\u001b[49m\u001b[43m)\u001b[49m\n\u001b[1;32m     86\u001b[0m     \u001b[38;5;28mself\u001b[39m\u001b[38;5;241m.\u001b[39mfit_distributions(series)\n",
      "File \u001b[0;32m~/miniconda/envs/cardtale/lib/python3.10/site-packages/cardtale/core/profile.py:143\u001b[0m, in \u001b[0;36mSeriesProfile.summarise\u001b[0;34m(self, series, period, dt_format)\u001b[0m\n\u001b[1;32m    140\u001b[0m \u001b[38;5;28;01mif\u001b[39;00m np\u001b[38;5;241m.\u001b[39misinf(val):\n\u001b[1;32m    141\u001b[0m     \u001b[38;5;28;01mcontinue\u001b[39;00m\n\u001b[0;32m--> 143\u001b[0m \u001b[38;5;28mself\u001b[39m\u001b[38;5;241m.\u001b[39mstats[st] \u001b[38;5;241m=\u001b[39m \u001b[38;5;28mint\u001b[39m(val) \u001b[38;5;28;01mif\u001b[39;00m val \u001b[38;5;241m==\u001b[39m \u001b[38;5;28;43mint\u001b[39;49m\u001b[43m(\u001b[49m\u001b[43mval\u001b[49m\u001b[43m)\u001b[49m \u001b[38;5;28;01melse\u001b[39;00m val\n\u001b[1;32m    145\u001b[0m \u001b[38;5;28;01mif\u001b[39;00m st \u001b[38;5;129;01min\u001b[39;00m STATS_TO_ROUND:\n\u001b[1;32m    146\u001b[0m     \u001b[38;5;28mself\u001b[39m\u001b[38;5;241m.\u001b[39mstats[st] \u001b[38;5;241m=\u001b[39m np\u001b[38;5;241m.\u001b[39mround(\u001b[38;5;28mself\u001b[39m\u001b[38;5;241m.\u001b[39mstats[st], ROUND_N)\n",
      "\u001b[0;31mValueError\u001b[0m: cannot convert float NaN to integer"
     ]
    }
   ],
   "source": [
    "tcard = CardsBuilder(series_df, freq)\n",
    "tcard.build_cards()\n",
    "tcard.get_pdf(path='cards/example.pdf')"
   ]
  },
  {
   "cell_type": "code",
   "execution_count": 8,
   "id": "3910f2c4-d619-4f7e-b2b8-90437b7e643a",
   "metadata": {},
   "outputs": [
    {
     "data": {
      "text/plain": [
       "'/Users/vcerq/Dropbox/Research/cardtale/notebooks'"
      ]
     },
     "execution_count": 8,
     "metadata": {},
     "output_type": "execute_result"
    }
   ],
   "source": [
    "import os\n",
    "cwd = os.getcwd()\n",
    "cwd"
   ]
  }
 ],
 "metadata": {
  "kernelspec": {
   "display_name": "Python 3 (ipykernel)",
   "language": "python",
   "name": "python3"
  },
  "language_info": {
   "codemirror_mode": {
    "name": "ipython",
    "version": 3
   },
   "file_extension": ".py",
   "mimetype": "text/x-python",
   "name": "python",
   "nbconvert_exporter": "python",
   "pygments_lexer": "ipython3",
   "version": "3.10.15"
  }
 },
 "nbformat": 4,
 "nbformat_minor": 5
}
